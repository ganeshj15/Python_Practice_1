{
 "cells": [
  {
   "cell_type": "markdown",
   "id": "fadc593a",
   "metadata": {},
   "source": [
    "## STRING PROGRAMS"
   ]
  },
  {
   "cell_type": "code",
   "execution_count": 4,
   "id": "1da00070",
   "metadata": {},
   "outputs": [
    {
     "name": "stdout",
     "output_type": "stream",
     "text": [
      "enter the text:are you a DATA scientist?\n",
      "modfified sting is: $re you $ d$t$ scientist?\n"
     ]
    }
   ],
   "source": [
    "# replace all ocuurances of a with $\n",
    "s= input(\"enter the text:\")\n",
    "new_s = s.lower().replace('a','$')\n",
    "print('modfified sting is:',new_s)"
   ]
  },
  {
   "cell_type": "code",
   "execution_count": 11,
   "id": "cf87f46a",
   "metadata": {},
   "outputs": [
    {
     "data": {
      "text/plain": [
       "'the_file_name_is_file 12 sd'"
      ]
     },
     "execution_count": 11,
     "metadata": {},
     "output_type": "execute_result"
    }
   ],
   "source": [
    "# replace space by _ and _by space\n",
    "s = 'the file name is file_12_sd'\n",
    "s.translate({ord(' '):ord('_'),ord('_'):ord(' ')})"
   ]
  },
  {
   "cell_type": "code",
   "execution_count": 23,
   "id": "11e38f3b",
   "metadata": {},
   "outputs": [
    {
     "name": "stdout",
     "output_type": "stream",
     "text": [
      "enter the string:today is last day\n",
      "enter the index of char to remove7\n"
     ]
    },
    {
     "data": {
      "text/plain": [
       "'today i last day'"
      ]
     },
     "execution_count": 23,
     "metadata": {},
     "output_type": "execute_result"
    }
   ],
   "source": [
    "# program to remove nth index char from string\n",
    "def remove_char():\n",
    "    s = input('enter the string:')\n",
    "    index = int(input('enter the index of char to remove'))\n",
    "    new_s = s[:index]+s[index+1:]\n",
    "    return new_s\n",
    "\n",
    "remove_char()\n",
    "                "
   ]
  },
  {
   "cell_type": "code",
   "execution_count": 28,
   "id": "d4ebfc44",
   "metadata": {},
   "outputs": [
    {
     "name": "stdout",
     "output_type": "stream",
     "text": [
      "enter first string:bat\n",
      "enter other string:tab\n",
      "strings are anagram\n"
     ]
    }
   ],
   "source": [
    "# program to check two strings are anagramas\n",
    "s1 = input('enter first string:')\n",
    "s2 = input('enter other string:')\n",
    "if sorted(s1) == sorted(s2):\n",
    "    print('strings are anagrams')\n",
    "else:\n",
    "    print(\"not anagrams\")"
   ]
  },
  {
   "cell_type": "code",
   "execution_count": 30,
   "id": "dc7a757e",
   "metadata": {},
   "outputs": [
    {
     "data": {
      "text/plain": [
       "'ertificial IntellegienceA'"
      ]
     },
     "execution_count": 30,
     "metadata": {},
     "output_type": "execute_result"
    }
   ],
   "source": [
    "# program to from new string where first and last char are exchanged\n",
    "s = 'Artificial Intellegience'\n",
    "s[-1] + s[1:] + s[0]"
   ]
  },
  {
   "cell_type": "code",
   "execution_count": 31,
   "id": "c9e27306",
   "metadata": {},
   "outputs": [
    {
     "data": {
      "text/plain": [
       "'ranesh jambhrunkarg'"
      ]
     },
     "execution_count": 31,
     "metadata": {},
     "output_type": "execute_result"
    }
   ],
   "source": [
    "s = 'ganesh jambhrunkar'\n",
    "s[-1]+s[1:]+s[0]"
   ]
  },
  {
   "cell_type": "code",
   "execution_count": 32,
   "id": "3df51826",
   "metadata": {},
   "outputs": [
    {
     "name": "stdout",
     "output_type": "stream",
     "text": [
      "number of vowels in the string are: 11\n"
     ]
    }
   ],
   "source": [
    "# program to count the number of vowels in string\n",
    "s = 'here we have to count the vowels'\n",
    "vowels = 'aeiou'\n",
    "count = 0\n",
    "for char in s.lower():\n",
    "    if char in vowels:\n",
    "        count += 1\n",
    "    else:\n",
    "        continue\n",
    "print(\"number of vowels in the string are:\",count)"
   ]
  },
  {
   "cell_type": "code",
   "execution_count": 34,
   "id": "83fc1c84",
   "metadata": {},
   "outputs": [
    {
     "data": {
      "text/plain": [
       "16"
      ]
     },
     "execution_count": 34,
     "metadata": {},
     "output_type": "execute_result"
    }
   ],
   "source": [
    "# program to find the length of string withoit len function\n",
    "s = 'machine learning'\n",
    "count = 0\n",
    "for char in s:\n",
    "    count += 1\n",
    "count"
   ]
  },
  {
   "cell_type": "code",
   "execution_count": 46,
   "id": "1ef67000",
   "metadata": {},
   "outputs": [
    {
     "data": {
      "text/plain": [
       "'mcie'"
      ]
     },
     "execution_count": 46,
     "metadata": {},
     "output_type": "execute_result"
    }
   ],
   "source": [
    "# program to remove char of odd index from the string\n",
    "s = 'machine'\n",
    "rev_s = s[::2]\n",
    "rev_s"
   ]
  },
  {
   "cell_type": "code",
   "execution_count": 44,
   "id": "97c99ee4",
   "metadata": {},
   "outputs": [
    {
     "data": {
      "text/plain": [
       "'mcie'"
      ]
     },
     "execution_count": 44,
     "metadata": {},
     "output_type": "execute_result"
    }
   ],
   "source": [
    "# program to remove char of odd index from the string\n",
    "s = 'machine'\n",
    "new_s = ''\n",
    "for char in s:\n",
    "    if s.index(char)%2 == 0:\n",
    "        new_s = new_s + char\n",
    "    #else:\n",
    "     #   continue\n",
    "new_s"
   ]
  },
  {
   "cell_type": "code",
   "execution_count": 54,
   "id": "409b7f64",
   "metadata": {},
   "outputs": [
    {
     "name": "stdout",
     "output_type": "stream",
     "text": [
      "number of words are: 3\n",
      "number of char in string: 13\n"
     ]
    }
   ],
   "source": [
    "# program to calculate number of words and number of char in string\n",
    "s = 'i love python'\n",
    "print('number of words are:',len(s.split()))\n",
    "print('number of char in string:',len(s))"
   ]
  },
  {
   "cell_type": "code",
   "execution_count": 53,
   "id": "3dd95291",
   "metadata": {},
   "outputs": [
    {
     "name": "stdout",
     "output_type": "stream",
     "text": [
      "number of words are: 3\n",
      "number of char in string: 13\n"
     ]
    }
   ],
   "source": [
    "# program to calculate number of words and number of char in string without len function\n",
    "s = 'I love python'\n",
    "char = 0\n",
    "words = 1\n",
    "for i in s:\n",
    "    char+=1\n",
    "    if i == \" \":\n",
    "        words += 1\n",
    "print('number of words are:',words)\n",
    "print('number of char in string:',char)"
   ]
  },
  {
   "cell_type": "code",
   "execution_count": null,
   "id": "19e2c1d1",
   "metadata": {},
   "outputs": [],
   "source": []
  },
  {
   "cell_type": "code",
   "execution_count": 56,
   "id": "20eefe24",
   "metadata": {},
   "outputs": [
    {
     "name": "stdout",
     "output_type": "stream",
     "text": [
      "enter the string:python\n",
      "enter another string:powerBI\n",
      "larger length string is: powerBI\n"
     ]
    }
   ],
   "source": [
    "# program to take two strings and display the larger string without builtin function\n",
    "s1 = input('enter the string:')\n",
    "s2 = input('enter another string:')\n",
    "l1 = 0\n",
    "l2 = 0\n",
    "for i in s1:\n",
    "    l1 += 1\n",
    "for j in s2 :\n",
    "    l2 += 1\n",
    "if l1>l2:\n",
    "    print('larger length string is:',s1)\n",
    "else:\n",
    "    print('larger length string is:',s2)"
   ]
  },
  {
   "cell_type": "code",
   "execution_count": 62,
   "id": "8bb7eb04",
   "metadata": {},
   "outputs": [
    {
     "data": {
      "text/plain": [
       "18"
      ]
     },
     "execution_count": 62,
     "metadata": {},
     "output_type": "execute_result"
    }
   ],
   "source": [
    "# program to count lowercase charecters in string\n",
    "s = 'GPT4 is Making BUZZ in the market'\n",
    "count_l = 0\n",
    "for i in s:\n",
    "    if i.islower():\n",
    "        count_l +=1\n",
    "count_l"
   ]
  },
  {
   "cell_type": "code",
   "execution_count": 68,
   "id": "20a05365",
   "metadata": {},
   "outputs": [
    {
     "name": "stdout",
     "output_type": "stream",
     "text": [
      "enter the string:abba\n",
      "palindrome\n"
     ]
    }
   ],
   "source": [
    "# program to check string is palindrome or not\n",
    "s = input('enter the string:')\n",
    "if s == s[::-1]:\n",
    "    print(\"palindrome\")\n",
    "else:\n",
    "    print('not palindrome')"
   ]
  },
  {
   "cell_type": "code",
   "execution_count": 77,
   "id": "f67e4fcf",
   "metadata": {},
   "outputs": [
    {
     "name": "stdout",
     "output_type": "stream",
     "text": [
      "enter the string:PYTHon\n",
      "lcower case letters are: 2 uppercase letters are: 4\n"
     ]
    }
   ],
   "source": [
    "# program to get uppercase & lowercase letters in string\n",
    "s = input('enter the string:')\n",
    "count_u = 0\n",
    "count_l = 0\n",
    "for char in s:\n",
    "    if char.islower():\n",
    "        count_l += 1\n",
    "    elif char.isupper():\n",
    "        count_u += 1\n",
    "print('lcower case letters are:',count_l,'uppercase letters are:',count_u)"
   ]
  },
  {
   "cell_type": "code",
   "execution_count": 10,
   "id": "e259b3fa",
   "metadata": {},
   "outputs": [
    {
     "name": "stdout",
     "output_type": "stream",
     "text": [
      "nuber of digits 3\n",
      "number of char 7\n"
     ]
    }
   ],
   "source": [
    "# program to replace number of digits and number of char in string\n",
    "s = 'python3.10'\n",
    "char_count = 0\n",
    "digit_count = 0\n",
    "for i in s:\n",
    "    if (i.isdigit()):\n",
    "        digit_count += 1\n",
    "    else:\n",
    "        char_count += 1\n",
    "print('nuber of digits',digit_count)\n",
    "print('number of char',char_count)"
   ]
  },
  {
   "cell_type": "code",
   "execution_count": 24,
   "id": "b72dcc1b",
   "metadata": {},
   "outputs": [
    {
     "name": "stdout",
     "output_type": "stream",
     "text": [
      "enter the string:-data science data analyst\n",
      "enter the word to measure the count:-data\n",
      "the number of occurances of: data ,are 2\n"
     ]
    }
   ],
   "source": [
    "# program to print the number of occurances of word in string\n",
    "s = input('Enter the string:-')\n",
    "word = input('Enter the word to measure the count:-')\n",
    "print('The number of occurances of:',word,',are',s.count(word))"
   ]
  },
  {
   "cell_type": "code",
   "execution_count": 32,
   "id": "22599530",
   "metadata": {},
   "outputs": [
    {
     "name": "stdout",
     "output_type": "stream",
     "text": [
      "Enter the string:data science data analyst\n",
      "Enter the word of which we you want uccurances:data\n",
      "numbere of occurances of data are: 2\n"
     ]
    }
   ],
   "source": [
    "# program to print the number of occurances of word in string without using the count function\n",
    "a = input('Enter the string:')\n",
    "w = input('Enter the word of which we you want uccurances:')\n",
    "n = len([i for i in a.split() if i == w])\n",
    "print('numbere of occurances of',w,'are:',n)"
   ]
  },
  {
   "cell_type": "code",
   "execution_count": 45,
   "id": "1c97a1c6",
   "metadata": {},
   "outputs": [
    {
     "name": "stdout",
     "output_type": "stream",
     "text": [
      "enter the number:5\n"
     ]
    },
    {
     "data": {
      "text/plain": [
       "123454321"
      ]
     },
     "execution_count": 45,
     "metadata": {},
     "output_type": "execute_result"
    }
   ],
   "source": [
    "n = int(input('enter the number:'))\n",
    "output = ''.join([str(i) for i in range(1,n+1)])\n",
    "output += output[n-2::-1]\n",
    "int(output)"
   ]
  },
  {
   "cell_type": "code",
   "execution_count": 52,
   "id": "b9465a63",
   "metadata": {},
   "outputs": [
    {
     "name": "stdout",
     "output_type": "stream",
     "text": [
      "present\n"
     ]
    }
   ],
   "source": [
    "# program to check a substring is present in a string not\n",
    "a = '1234'\n",
    "if '3' in a:\n",
    "    print('present')\n",
    "else:\n",
    "    print('absent')"
   ]
  },
  {
   "cell_type": "code",
   "execution_count": 54,
   "id": "0697a8a1",
   "metadata": {},
   "outputs": [
    {
     "name": "stdout",
     "output_type": "stream",
     "text": [
      "present\n"
     ]
    }
   ],
   "source": [
    "# program to check a substring is present in a string not\n",
    "a = '1234'\n",
    "if a.find('4') == -1:\n",
    "    print(\"absent\")\n",
    "else:\n",
    "    print('present')"
   ]
  },
  {
   "cell_type": "code",
   "execution_count": 62,
   "id": "b7d2db72",
   "metadata": {},
   "outputs": [
    {
     "data": {
      "text/plain": [
       "'olleh'"
      ]
     },
     "execution_count": 62,
     "metadata": {},
     "output_type": "execute_result"
    }
   ],
   "source": [
    "# write a program to reverse a string\n",
    " # various methods are shown below\n",
    "s = 'hello'\n",
    "s[::-1]\n",
    "#============\n",
    "''.join(reversed(s))\n",
    "#=====================\n",
    "new_s = ''\n",
    "for i in s:\n",
    "    new_s = i + new_s\n",
    "new_s"
   ]
  },
  {
   "cell_type": "code",
   "execution_count": 80,
   "id": "8bfeb508",
   "metadata": {},
   "outputs": [
    {
     "data": {
      "text/plain": [
       "'olleh'"
      ]
     },
     "execution_count": 80,
     "metadata": {},
     "output_type": "execute_result"
    }
   ],
   "source": [
    "# some methods to reverese\n",
    "s = 'hello'\n",
    "''.join([s[i] for i in range(len(s)-1,-1,-1)])\n",
    "#================\n",
    "s_li = list(s)\n",
    "s_li.reverse()\n",
    "''.join(s_li)"
   ]
  },
  {
   "cell_type": "code",
   "execution_count": 72,
   "id": "906767c2",
   "metadata": {},
   "outputs": [
    {
     "data": {
      "text/plain": [
       "{1: 10, 2: 20, 3: 30, 4: 40}"
      ]
     },
     "execution_count": 72,
     "metadata": {},
     "output_type": "execute_result"
    }
   ],
   "source": [
    "l1 = [1,2,3,4]\n",
    "l2 = [10,20,30,40]\n",
    "dict(zip(l1,l2))"
   ]
  },
  {
   "cell_type": "code",
   "execution_count": 73,
   "id": "f7e158ad",
   "metadata": {},
   "outputs": [
    {
     "data": {
      "text/plain": [
       "{1: 10, 2: 20, 3: 30, 4: 40}"
      ]
     },
     "execution_count": 73,
     "metadata": {},
     "output_type": "execute_result"
    }
   ],
   "source": [
    "l1 = [1,2,3,4]\n",
    "l2 = [10,20,30,40]\n",
    "{l1[i]:l2[i] for i in range(len(l1))}"
   ]
  },
  {
   "cell_type": "code",
   "execution_count": 83,
   "id": "aa55dc56",
   "metadata": {},
   "outputs": [
    {
     "name": "stdout",
     "output_type": "stream",
     "text": [
      "index of: h , is: 0\n",
      "index of: e , is: 1\n",
      "index of: l , is: 2\n",
      "index of: l , is: 3\n",
      "index of: o , is: 4\n"
     ]
    }
   ],
   "source": [
    "# program to print the index of char in string\n",
    "s= 'hello'\n",
    "for i in range(len(s)):\n",
    "    print('index of:',s[i],',','is:',i)"
   ]
  },
  {
   "cell_type": "code",
   "execution_count": 85,
   "id": "b2cd8f6f",
   "metadata": {},
   "outputs": [
    {
     "data": {
      "text/plain": [
       "{0: 'h', 1: 'e', 2: 'l', 3: 'l', 4: 'o'}"
      ]
     },
     "execution_count": 85,
     "metadata": {},
     "output_type": "execute_result"
    }
   ],
   "source": [
    "{i:s[i]for i in range(len(s))}"
   ]
  },
  {
   "cell_type": "code",
   "execution_count": 86,
   "id": "b5a1c24b",
   "metadata": {},
   "outputs": [
    {
     "data": {
      "text/plain": [
       "'277.56,78'"
      ]
     },
     "execution_count": 86,
     "metadata": {},
     "output_type": "execute_result"
    }
   ],
   "source": [
    "# program to swap , and . from string\n",
    "s = '277,56.78'\n",
    "s.translate({ord(','):ord('.'),ord('.'):ord(',')})"
   ]
  },
  {
   "cell_type": "code",
   "execution_count": 89,
   "id": "b7445d1a",
   "metadata": {},
   "outputs": [
    {
     "data": {
      "text/plain": [
       "'machiNE LEARNING'"
      ]
     },
     "execution_count": 89,
     "metadata": {},
     "output_type": "execute_result"
    }
   ],
   "source": [
    "# program to lowercase first n charcters in string\n",
    "s = 'MACHINE LEARNING'\n",
    "s[:5].lower()+s[5:]"
   ]
  },
  {
   "cell_type": "markdown",
   "id": "e7760812",
   "metadata": {},
   "source": [
    "## LIST PROGRAMS"
   ]
  },
  {
   "cell_type": "code",
   "execution_count": 95,
   "id": "7230ab3f",
   "metadata": {},
   "outputs": [
    {
     "data": {
      "text/plain": [
       "57"
      ]
     },
     "execution_count": 95,
     "metadata": {},
     "output_type": "execute_result"
    }
   ],
   "source": [
    "# program to print largest number in list\n",
    "l = [23,45,11,57,4,35,23,57]\n",
    "max(l)\n",
    "#=============\n",
    "sorted(l)[-1]\n",
    "# ================\n",
    "l.sort()\n",
    "l[-1]"
   ]
  },
  {
   "cell_type": "code",
   "execution_count": 103,
   "id": "36e55300",
   "metadata": {},
   "outputs": [
    {
     "data": {
      "text/plain": [
       "57"
      ]
     },
     "execution_count": 103,
     "metadata": {},
     "output_type": "execute_result"
    }
   ],
   "source": [
    "# program to print second largest number in list\n",
    "l = [110,23,45,11,57,110,4,35,23,57]\n",
    "sorted(set(l))[-2]"
   ]
  },
  {
   "cell_type": "code",
   "execution_count": 106,
   "id": "6e3ce34c",
   "metadata": {},
   "outputs": [
    {
     "name": "stdout",
     "output_type": "stream",
     "text": [
      "Even numbers list: [110, 110, 4]\n",
      "odd numbers list: [23, 45, 11, 57, 35, 23, 57]\n"
     ]
    }
   ],
   "source": [
    "# program to add even & odd numbers from a list to seperate lists\n",
    "l = [110,23,45,11,57,110,4,35,23,57]\n",
    "even_l = [ num for num in l if num%2 == 0]\n",
    "odd_l = [num for num in l if num % 2 != 0]\n",
    "print('Even numbers list:',even_l)\n",
    "print('odd numbers list:',odd_l)"
   ]
  },
  {
   "cell_type": "code",
   "execution_count": 121,
   "id": "c94029aa",
   "metadata": {},
   "outputs": [
    {
     "data": {
      "text/plain": [
       "[4, 11, 23, 23, 35, 45, 57, 57, 110, 110]"
      ]
     },
     "execution_count": 121,
     "metadata": {},
     "output_type": "execute_result"
    }
   ],
   "source": [
    "l1 = [110, 110, 4]\n",
    "l2 = [23, 45, 11, 57, 35, 23, 57]\n",
    "l2.extend(l1)\n",
    "l2.sort()\n",
    "l2"
   ]
  }
 ],
 "metadata": {
  "kernelspec": {
   "display_name": "Python 3 (ipykernel)",
   "language": "python",
   "name": "python3"
  },
  "language_info": {
   "codemirror_mode": {
    "name": "ipython",
    "version": 3
   },
   "file_extension": ".py",
   "mimetype": "text/x-python",
   "name": "python",
   "nbconvert_exporter": "python",
   "pygments_lexer": "ipython3",
   "version": "3.9.13"
  }
 },
 "nbformat": 4,
 "nbformat_minor": 5
}
